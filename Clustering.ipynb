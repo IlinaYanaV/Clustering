{
  "nbformat": 4,
  "nbformat_minor": 0,
  "metadata": {
    "colab": {
      "provenance": []
    },
    "kernelspec": {
      "name": "python3",
      "display_name": "Python 3"
    },
    "language_info": {
      "name": "python"
    }
  },
  "cells": [
    {
      "cell_type": "markdown",
      "source": [
        "# Описание\n",
        "\n",
        "Для понимания структуры данных о клиентах, совершающих платежные операции очень часто используются алгоритмы кластеризации, изначально мы не знаем какие классы удастся выделить и сколько их будет. В общем случае нам интересно выделить пользователей, которые приносят прибыль, клиентов которые представляют некий портрет среднего пользователя продукта и пользователей, которые по каким-то причинам не очень охотно платят. Необходимо разработать модель кластеризации, которая позволит разделить клиентов на классы по их платежному поведению. Может быть ситуация, когда  пользователь не попал ни в один из выделенных классов, таких пользователей можно отнести к классу Другие. Возможно, вы выделите еще классы."
      ],
      "metadata": {
        "id": "RWVklABlx4AZ"
      }
    },
    {
      "cell_type": "markdown",
      "source": [
        "# Задание \n",
        "\n",
        "Обработайте данные: \n",
        "\n",
        "1) Удалите столбец CustomerId, так как для каждого пользователя это значение уникально. \n",
        "\n",
        "2)Так как признак Recency - время последнего платежа пользователя за анализируемый период времени, и каждое значение содержит 2019 год, то преобразуйте его в количество дней, прошедших с 2018 года, используя следующий код:\n",
        "\n",
        "from datetime import datetime\n",
        "\n",
        "data['Recency'] = data['Recency'].apply(lambda x: datetime.strptime(x, '%Y-%m-%d').month*30 + datetime.strptime(x, '%Y-%m-%d').day)\n",
        "\n",
        "data['Recency'] = data['Recency'] - data['Recency'].min()\n",
        "\n",
        "3) Определите оптимальное число кластеров. Выполните кластерный анализ, используя метод k-средних.\n",
        "\n",
        "4) Визуализируйте кластеры.\n",
        "\n",
        "5) Интерпретируйте результаты кластерного анализа: что представляют собой полученные кластеры? чем объекты в каждом из получившихся кластеров похожи друг на друга? чем объекты из разных кластеров отличаются друг от друга?"
      ],
      "metadata": {
        "id": "OEh48nFpykpO"
      }
    },
    {
      "cell_type": "markdown",
      "source": [
        "# Загрузка библиотек"
      ],
      "metadata": {
        "id": "XBnk7-Z3y9DX"
      }
    },
    {
      "cell_type": "code",
      "execution_count": null,
      "metadata": {
        "id": "-UBxK0dKwvNu"
      },
      "outputs": [],
      "source": [
        "import numpy as np\n",
        "import pandas as pd\n",
        "import matplotlib.pyplot as plt\n",
        "import seaborn as sns\n",
        "from sklearn.preprocessing import StandardScaler\n",
        "from sklearn.cluster import KMeans\n",
        "from sklearn.decomposition import PCA\n",
        "from sklearn import metrics"
      ]
    },
    {
      "cell_type": "markdown",
      "source": [
        "# Загрузка набора данных в объект DataFrame"
      ],
      "metadata": {
        "id": "rSzqOfC1xNJB"
      }
    },
    {
      "cell_type": "markdown",
      "source": [
        "- CustomerId - уникальный идентификатор пользователя\n",
        "- Monetary - объем средств, который пользователь принес в продукт за анализируемый период времени\n",
        "- Recency - время последнего платежа пользователя за анализируемый период времени\n",
        "- Frequency - количество платежей, которое пользователь совершил за анализируемый период времени\n",
        "- factor_* - замаскированные показатели"
      ],
      "metadata": {
        "id": "UrHFbAseySVH"
      }
    },
    {
      "cell_type": "code",
      "source": [
        "%%capture\n",
        "!wget https://www.dropbox.com/s/pah8yvu0kj5s1mb/KA_segm.csv\n"
      ],
      "metadata": {
        "id": "q6DL11U2xQAj"
      },
      "execution_count": null,
      "outputs": []
    },
    {
      "cell_type": "code",
      "source": [
        "data = pd.read_csv(\"KA_segm.csv\")\n",
        "print(data.shape)\n",
        "data"
      ],
      "metadata": {
        "colab": {
          "base_uri": "https://localhost:8080/",
          "height": 441
        },
        "id": "9NEudD16yOY_",
        "outputId": "b366e6fb-e248-4902-e6d8-e31509f9be47"
      },
      "execution_count": null,
      "outputs": [
        {
          "output_type": "stream",
          "name": "stdout",
          "text": [
            "(16000, 8)\n"
          ]
        },
        {
          "output_type": "execute_result",
          "data": {
            "text/plain": [
              "                                 CustomerId  Monetary     Recency  Frequency  \\\n",
              "0      8b4f8c66-7589-4734-8ada-2d42f60540ab    100.40  2019-06-04          6   \n",
              "1      2151b2a2-8867-4986-9e00-449c2b4f89e9    170.00  2019-05-25          4   \n",
              "2      3111db79-6721-4ec0-82b1-30b810649c5e     70.75  2019-05-25          6   \n",
              "3      9cb76426-cc5d-4fa3-88bc-b92314b9f4e8     75.00  2019-03-20         10   \n",
              "4      5d86caeb-2d53-44a7-b379-7f15f06ca821     94.51  2019-04-10          5   \n",
              "...                                     ...       ...         ...        ...   \n",
              "15995  3e0cc750-5787-4843-8192-92eb92d0baf2    110.00  2019-05-31          5   \n",
              "15996  48d1512b-9291-4c69-84da-2e896e8b5250    175.00  2019-05-16          9   \n",
              "15997  6c09d459-a312-4162-a8ce-a4ea43bf177a     94.21  2019-03-06          2   \n",
              "15998  1f0cb9c5-111a-4927-8ed1-01402929ee65      3.35  2019-01-05          1   \n",
              "15999  7e7d6612-56c0-4267-acc5-c5f0c5764d24    345.00  2019-06-13         18   \n",
              "\n",
              "       factor_1  factor_2  factor_3  factor_4  \n",
              "0          0.35      0.08  0.609740  0.949383  \n",
              "1          0.66      0.16  0.942272  0.479846  \n",
              "2          0.92      0.20  0.323030  0.007076  \n",
              "3          0.35      0.78  0.876833  0.088974  \n",
              "4          0.51      0.44  0.912099  0.206194  \n",
              "...         ...       ...       ...       ...  \n",
              "15995      0.22      0.92  0.279858  0.012416  \n",
              "15996      0.66      0.55  0.045826  0.025403  \n",
              "15997      0.41      0.80  0.438510  0.665808  \n",
              "15998      0.75      0.17  0.009277  0.572111  \n",
              "15999      0.11      0.28  0.068690  0.457037  \n",
              "\n",
              "[16000 rows x 8 columns]"
            ],
            "text/html": [
              "\n",
              "  <div id=\"df-6fc6b01b-b2d8-491f-9504-fd9543b83177\">\n",
              "    <div class=\"colab-df-container\">\n",
              "      <div>\n",
              "<style scoped>\n",
              "    .dataframe tbody tr th:only-of-type {\n",
              "        vertical-align: middle;\n",
              "    }\n",
              "\n",
              "    .dataframe tbody tr th {\n",
              "        vertical-align: top;\n",
              "    }\n",
              "\n",
              "    .dataframe thead th {\n",
              "        text-align: right;\n",
              "    }\n",
              "</style>\n",
              "<table border=\"1\" class=\"dataframe\">\n",
              "  <thead>\n",
              "    <tr style=\"text-align: right;\">\n",
              "      <th></th>\n",
              "      <th>CustomerId</th>\n",
              "      <th>Monetary</th>\n",
              "      <th>Recency</th>\n",
              "      <th>Frequency</th>\n",
              "      <th>factor_1</th>\n",
              "      <th>factor_2</th>\n",
              "      <th>factor_3</th>\n",
              "      <th>factor_4</th>\n",
              "    </tr>\n",
              "  </thead>\n",
              "  <tbody>\n",
              "    <tr>\n",
              "      <th>0</th>\n",
              "      <td>8b4f8c66-7589-4734-8ada-2d42f60540ab</td>\n",
              "      <td>100.40</td>\n",
              "      <td>2019-06-04</td>\n",
              "      <td>6</td>\n",
              "      <td>0.35</td>\n",
              "      <td>0.08</td>\n",
              "      <td>0.609740</td>\n",
              "      <td>0.949383</td>\n",
              "    </tr>\n",
              "    <tr>\n",
              "      <th>1</th>\n",
              "      <td>2151b2a2-8867-4986-9e00-449c2b4f89e9</td>\n",
              "      <td>170.00</td>\n",
              "      <td>2019-05-25</td>\n",
              "      <td>4</td>\n",
              "      <td>0.66</td>\n",
              "      <td>0.16</td>\n",
              "      <td>0.942272</td>\n",
              "      <td>0.479846</td>\n",
              "    </tr>\n",
              "    <tr>\n",
              "      <th>2</th>\n",
              "      <td>3111db79-6721-4ec0-82b1-30b810649c5e</td>\n",
              "      <td>70.75</td>\n",
              "      <td>2019-05-25</td>\n",
              "      <td>6</td>\n",
              "      <td>0.92</td>\n",
              "      <td>0.20</td>\n",
              "      <td>0.323030</td>\n",
              "      <td>0.007076</td>\n",
              "    </tr>\n",
              "    <tr>\n",
              "      <th>3</th>\n",
              "      <td>9cb76426-cc5d-4fa3-88bc-b92314b9f4e8</td>\n",
              "      <td>75.00</td>\n",
              "      <td>2019-03-20</td>\n",
              "      <td>10</td>\n",
              "      <td>0.35</td>\n",
              "      <td>0.78</td>\n",
              "      <td>0.876833</td>\n",
              "      <td>0.088974</td>\n",
              "    </tr>\n",
              "    <tr>\n",
              "      <th>4</th>\n",
              "      <td>5d86caeb-2d53-44a7-b379-7f15f06ca821</td>\n",
              "      <td>94.51</td>\n",
              "      <td>2019-04-10</td>\n",
              "      <td>5</td>\n",
              "      <td>0.51</td>\n",
              "      <td>0.44</td>\n",
              "      <td>0.912099</td>\n",
              "      <td>0.206194</td>\n",
              "    </tr>\n",
              "    <tr>\n",
              "      <th>...</th>\n",
              "      <td>...</td>\n",
              "      <td>...</td>\n",
              "      <td>...</td>\n",
              "      <td>...</td>\n",
              "      <td>...</td>\n",
              "      <td>...</td>\n",
              "      <td>...</td>\n",
              "      <td>...</td>\n",
              "    </tr>\n",
              "    <tr>\n",
              "      <th>15995</th>\n",
              "      <td>3e0cc750-5787-4843-8192-92eb92d0baf2</td>\n",
              "      <td>110.00</td>\n",
              "      <td>2019-05-31</td>\n",
              "      <td>5</td>\n",
              "      <td>0.22</td>\n",
              "      <td>0.92</td>\n",
              "      <td>0.279858</td>\n",
              "      <td>0.012416</td>\n",
              "    </tr>\n",
              "    <tr>\n",
              "      <th>15996</th>\n",
              "      <td>48d1512b-9291-4c69-84da-2e896e8b5250</td>\n",
              "      <td>175.00</td>\n",
              "      <td>2019-05-16</td>\n",
              "      <td>9</td>\n",
              "      <td>0.66</td>\n",
              "      <td>0.55</td>\n",
              "      <td>0.045826</td>\n",
              "      <td>0.025403</td>\n",
              "    </tr>\n",
              "    <tr>\n",
              "      <th>15997</th>\n",
              "      <td>6c09d459-a312-4162-a8ce-a4ea43bf177a</td>\n",
              "      <td>94.21</td>\n",
              "      <td>2019-03-06</td>\n",
              "      <td>2</td>\n",
              "      <td>0.41</td>\n",
              "      <td>0.80</td>\n",
              "      <td>0.438510</td>\n",
              "      <td>0.665808</td>\n",
              "    </tr>\n",
              "    <tr>\n",
              "      <th>15998</th>\n",
              "      <td>1f0cb9c5-111a-4927-8ed1-01402929ee65</td>\n",
              "      <td>3.35</td>\n",
              "      <td>2019-01-05</td>\n",
              "      <td>1</td>\n",
              "      <td>0.75</td>\n",
              "      <td>0.17</td>\n",
              "      <td>0.009277</td>\n",
              "      <td>0.572111</td>\n",
              "    </tr>\n",
              "    <tr>\n",
              "      <th>15999</th>\n",
              "      <td>7e7d6612-56c0-4267-acc5-c5f0c5764d24</td>\n",
              "      <td>345.00</td>\n",
              "      <td>2019-06-13</td>\n",
              "      <td>18</td>\n",
              "      <td>0.11</td>\n",
              "      <td>0.28</td>\n",
              "      <td>0.068690</td>\n",
              "      <td>0.457037</td>\n",
              "    </tr>\n",
              "  </tbody>\n",
              "</table>\n",
              "<p>16000 rows × 8 columns</p>\n",
              "</div>\n",
              "      <button class=\"colab-df-convert\" onclick=\"convertToInteractive('df-6fc6b01b-b2d8-491f-9504-fd9543b83177')\"\n",
              "              title=\"Convert this dataframe to an interactive table.\"\n",
              "              style=\"display:none;\">\n",
              "        \n",
              "  <svg xmlns=\"http://www.w3.org/2000/svg\" height=\"24px\"viewBox=\"0 0 24 24\"\n",
              "       width=\"24px\">\n",
              "    <path d=\"M0 0h24v24H0V0z\" fill=\"none\"/>\n",
              "    <path d=\"M18.56 5.44l.94 2.06.94-2.06 2.06-.94-2.06-.94-.94-2.06-.94 2.06-2.06.94zm-11 1L8.5 8.5l.94-2.06 2.06-.94-2.06-.94L8.5 2.5l-.94 2.06-2.06.94zm10 10l.94 2.06.94-2.06 2.06-.94-2.06-.94-.94-2.06-.94 2.06-2.06.94z\"/><path d=\"M17.41 7.96l-1.37-1.37c-.4-.4-.92-.59-1.43-.59-.52 0-1.04.2-1.43.59L10.3 9.45l-7.72 7.72c-.78.78-.78 2.05 0 2.83L4 21.41c.39.39.9.59 1.41.59.51 0 1.02-.2 1.41-.59l7.78-7.78 2.81-2.81c.8-.78.8-2.07 0-2.86zM5.41 20L4 18.59l7.72-7.72 1.47 1.35L5.41 20z\"/>\n",
              "  </svg>\n",
              "      </button>\n",
              "      \n",
              "  <style>\n",
              "    .colab-df-container {\n",
              "      display:flex;\n",
              "      flex-wrap:wrap;\n",
              "      gap: 12px;\n",
              "    }\n",
              "\n",
              "    .colab-df-convert {\n",
              "      background-color: #E8F0FE;\n",
              "      border: none;\n",
              "      border-radius: 50%;\n",
              "      cursor: pointer;\n",
              "      display: none;\n",
              "      fill: #1967D2;\n",
              "      height: 32px;\n",
              "      padding: 0 0 0 0;\n",
              "      width: 32px;\n",
              "    }\n",
              "\n",
              "    .colab-df-convert:hover {\n",
              "      background-color: #E2EBFA;\n",
              "      box-shadow: 0px 1px 2px rgba(60, 64, 67, 0.3), 0px 1px 3px 1px rgba(60, 64, 67, 0.15);\n",
              "      fill: #174EA6;\n",
              "    }\n",
              "\n",
              "    [theme=dark] .colab-df-convert {\n",
              "      background-color: #3B4455;\n",
              "      fill: #D2E3FC;\n",
              "    }\n",
              "\n",
              "    [theme=dark] .colab-df-convert:hover {\n",
              "      background-color: #434B5C;\n",
              "      box-shadow: 0px 1px 3px 1px rgba(0, 0, 0, 0.15);\n",
              "      filter: drop-shadow(0px 1px 2px rgba(0, 0, 0, 0.3));\n",
              "      fill: #FFFFFF;\n",
              "    }\n",
              "  </style>\n",
              "\n",
              "      <script>\n",
              "        const buttonEl =\n",
              "          document.querySelector('#df-6fc6b01b-b2d8-491f-9504-fd9543b83177 button.colab-df-convert');\n",
              "        buttonEl.style.display =\n",
              "          google.colab.kernel.accessAllowed ? 'block' : 'none';\n",
              "\n",
              "        async function convertToInteractive(key) {\n",
              "          const element = document.querySelector('#df-6fc6b01b-b2d8-491f-9504-fd9543b83177');\n",
              "          const dataTable =\n",
              "            await google.colab.kernel.invokeFunction('convertToInteractive',\n",
              "                                                     [key], {});\n",
              "          if (!dataTable) return;\n",
              "\n",
              "          const docLinkHtml = 'Like what you see? Visit the ' +\n",
              "            '<a target=\"_blank\" href=https://colab.research.google.com/notebooks/data_table.ipynb>data table notebook</a>'\n",
              "            + ' to learn more about interactive tables.';\n",
              "          element.innerHTML = '';\n",
              "          dataTable['output_type'] = 'display_data';\n",
              "          await google.colab.output.renderOutput(dataTable, element);\n",
              "          const docLink = document.createElement('div');\n",
              "          docLink.innerHTML = docLinkHtml;\n",
              "          element.appendChild(docLink);\n",
              "        }\n",
              "      </script>\n",
              "    </div>\n",
              "  </div>\n",
              "  "
            ]
          },
          "metadata": {},
          "execution_count": 32
        }
      ]
    },
    {
      "cell_type": "markdown",
      "source": [
        "# 1. Удалим столбец CustomerId, так как для каждого пользователя это значение уникально."
      ],
      "metadata": {
        "id": "fA2jVSafzNhe"
      }
    },
    {
      "cell_type": "code",
      "source": [
        "data = data.drop('CustomerId', axis=1)\n",
        "data"
      ],
      "metadata": {
        "colab": {
          "base_uri": "https://localhost:8080/",
          "height": 423
        },
        "id": "CsujAsBXzJKx",
        "outputId": "95f7041e-1361-48b1-8910-26b8c0cdfd68"
      },
      "execution_count": null,
      "outputs": [
        {
          "output_type": "execute_result",
          "data": {
            "text/plain": [
              "       Monetary     Recency  Frequency  factor_1  factor_2  factor_3  factor_4\n",
              "0        100.40  2019-06-04          6      0.35      0.08  0.609740  0.949383\n",
              "1        170.00  2019-05-25          4      0.66      0.16  0.942272  0.479846\n",
              "2         70.75  2019-05-25          6      0.92      0.20  0.323030  0.007076\n",
              "3         75.00  2019-03-20         10      0.35      0.78  0.876833  0.088974\n",
              "4         94.51  2019-04-10          5      0.51      0.44  0.912099  0.206194\n",
              "...         ...         ...        ...       ...       ...       ...       ...\n",
              "15995    110.00  2019-05-31          5      0.22      0.92  0.279858  0.012416\n",
              "15996    175.00  2019-05-16          9      0.66      0.55  0.045826  0.025403\n",
              "15997     94.21  2019-03-06          2      0.41      0.80  0.438510  0.665808\n",
              "15998      3.35  2019-01-05          1      0.75      0.17  0.009277  0.572111\n",
              "15999    345.00  2019-06-13         18      0.11      0.28  0.068690  0.457037\n",
              "\n",
              "[16000 rows x 7 columns]"
            ],
            "text/html": [
              "\n",
              "  <div id=\"df-6141fcab-5d06-4908-a3d8-c88719f9d6ce\">\n",
              "    <div class=\"colab-df-container\">\n",
              "      <div>\n",
              "<style scoped>\n",
              "    .dataframe tbody tr th:only-of-type {\n",
              "        vertical-align: middle;\n",
              "    }\n",
              "\n",
              "    .dataframe tbody tr th {\n",
              "        vertical-align: top;\n",
              "    }\n",
              "\n",
              "    .dataframe thead th {\n",
              "        text-align: right;\n",
              "    }\n",
              "</style>\n",
              "<table border=\"1\" class=\"dataframe\">\n",
              "  <thead>\n",
              "    <tr style=\"text-align: right;\">\n",
              "      <th></th>\n",
              "      <th>Monetary</th>\n",
              "      <th>Recency</th>\n",
              "      <th>Frequency</th>\n",
              "      <th>factor_1</th>\n",
              "      <th>factor_2</th>\n",
              "      <th>factor_3</th>\n",
              "      <th>factor_4</th>\n",
              "    </tr>\n",
              "  </thead>\n",
              "  <tbody>\n",
              "    <tr>\n",
              "      <th>0</th>\n",
              "      <td>100.40</td>\n",
              "      <td>2019-06-04</td>\n",
              "      <td>6</td>\n",
              "      <td>0.35</td>\n",
              "      <td>0.08</td>\n",
              "      <td>0.609740</td>\n",
              "      <td>0.949383</td>\n",
              "    </tr>\n",
              "    <tr>\n",
              "      <th>1</th>\n",
              "      <td>170.00</td>\n",
              "      <td>2019-05-25</td>\n",
              "      <td>4</td>\n",
              "      <td>0.66</td>\n",
              "      <td>0.16</td>\n",
              "      <td>0.942272</td>\n",
              "      <td>0.479846</td>\n",
              "    </tr>\n",
              "    <tr>\n",
              "      <th>2</th>\n",
              "      <td>70.75</td>\n",
              "      <td>2019-05-25</td>\n",
              "      <td>6</td>\n",
              "      <td>0.92</td>\n",
              "      <td>0.20</td>\n",
              "      <td>0.323030</td>\n",
              "      <td>0.007076</td>\n",
              "    </tr>\n",
              "    <tr>\n",
              "      <th>3</th>\n",
              "      <td>75.00</td>\n",
              "      <td>2019-03-20</td>\n",
              "      <td>10</td>\n",
              "      <td>0.35</td>\n",
              "      <td>0.78</td>\n",
              "      <td>0.876833</td>\n",
              "      <td>0.088974</td>\n",
              "    </tr>\n",
              "    <tr>\n",
              "      <th>4</th>\n",
              "      <td>94.51</td>\n",
              "      <td>2019-04-10</td>\n",
              "      <td>5</td>\n",
              "      <td>0.51</td>\n",
              "      <td>0.44</td>\n",
              "      <td>0.912099</td>\n",
              "      <td>0.206194</td>\n",
              "    </tr>\n",
              "    <tr>\n",
              "      <th>...</th>\n",
              "      <td>...</td>\n",
              "      <td>...</td>\n",
              "      <td>...</td>\n",
              "      <td>...</td>\n",
              "      <td>...</td>\n",
              "      <td>...</td>\n",
              "      <td>...</td>\n",
              "    </tr>\n",
              "    <tr>\n",
              "      <th>15995</th>\n",
              "      <td>110.00</td>\n",
              "      <td>2019-05-31</td>\n",
              "      <td>5</td>\n",
              "      <td>0.22</td>\n",
              "      <td>0.92</td>\n",
              "      <td>0.279858</td>\n",
              "      <td>0.012416</td>\n",
              "    </tr>\n",
              "    <tr>\n",
              "      <th>15996</th>\n",
              "      <td>175.00</td>\n",
              "      <td>2019-05-16</td>\n",
              "      <td>9</td>\n",
              "      <td>0.66</td>\n",
              "      <td>0.55</td>\n",
              "      <td>0.045826</td>\n",
              "      <td>0.025403</td>\n",
              "    </tr>\n",
              "    <tr>\n",
              "      <th>15997</th>\n",
              "      <td>94.21</td>\n",
              "      <td>2019-03-06</td>\n",
              "      <td>2</td>\n",
              "      <td>0.41</td>\n",
              "      <td>0.80</td>\n",
              "      <td>0.438510</td>\n",
              "      <td>0.665808</td>\n",
              "    </tr>\n",
              "    <tr>\n",
              "      <th>15998</th>\n",
              "      <td>3.35</td>\n",
              "      <td>2019-01-05</td>\n",
              "      <td>1</td>\n",
              "      <td>0.75</td>\n",
              "      <td>0.17</td>\n",
              "      <td>0.009277</td>\n",
              "      <td>0.572111</td>\n",
              "    </tr>\n",
              "    <tr>\n",
              "      <th>15999</th>\n",
              "      <td>345.00</td>\n",
              "      <td>2019-06-13</td>\n",
              "      <td>18</td>\n",
              "      <td>0.11</td>\n",
              "      <td>0.28</td>\n",
              "      <td>0.068690</td>\n",
              "      <td>0.457037</td>\n",
              "    </tr>\n",
              "  </tbody>\n",
              "</table>\n",
              "<p>16000 rows × 7 columns</p>\n",
              "</div>\n",
              "      <button class=\"colab-df-convert\" onclick=\"convertToInteractive('df-6141fcab-5d06-4908-a3d8-c88719f9d6ce')\"\n",
              "              title=\"Convert this dataframe to an interactive table.\"\n",
              "              style=\"display:none;\">\n",
              "        \n",
              "  <svg xmlns=\"http://www.w3.org/2000/svg\" height=\"24px\"viewBox=\"0 0 24 24\"\n",
              "       width=\"24px\">\n",
              "    <path d=\"M0 0h24v24H0V0z\" fill=\"none\"/>\n",
              "    <path d=\"M18.56 5.44l.94 2.06.94-2.06 2.06-.94-2.06-.94-.94-2.06-.94 2.06-2.06.94zm-11 1L8.5 8.5l.94-2.06 2.06-.94-2.06-.94L8.5 2.5l-.94 2.06-2.06.94zm10 10l.94 2.06.94-2.06 2.06-.94-2.06-.94-.94-2.06-.94 2.06-2.06.94z\"/><path d=\"M17.41 7.96l-1.37-1.37c-.4-.4-.92-.59-1.43-.59-.52 0-1.04.2-1.43.59L10.3 9.45l-7.72 7.72c-.78.78-.78 2.05 0 2.83L4 21.41c.39.39.9.59 1.41.59.51 0 1.02-.2 1.41-.59l7.78-7.78 2.81-2.81c.8-.78.8-2.07 0-2.86zM5.41 20L4 18.59l7.72-7.72 1.47 1.35L5.41 20z\"/>\n",
              "  </svg>\n",
              "      </button>\n",
              "      \n",
              "  <style>\n",
              "    .colab-df-container {\n",
              "      display:flex;\n",
              "      flex-wrap:wrap;\n",
              "      gap: 12px;\n",
              "    }\n",
              "\n",
              "    .colab-df-convert {\n",
              "      background-color: #E8F0FE;\n",
              "      border: none;\n",
              "      border-radius: 50%;\n",
              "      cursor: pointer;\n",
              "      display: none;\n",
              "      fill: #1967D2;\n",
              "      height: 32px;\n",
              "      padding: 0 0 0 0;\n",
              "      width: 32px;\n",
              "    }\n",
              "\n",
              "    .colab-df-convert:hover {\n",
              "      background-color: #E2EBFA;\n",
              "      box-shadow: 0px 1px 2px rgba(60, 64, 67, 0.3), 0px 1px 3px 1px rgba(60, 64, 67, 0.15);\n",
              "      fill: #174EA6;\n",
              "    }\n",
              "\n",
              "    [theme=dark] .colab-df-convert {\n",
              "      background-color: #3B4455;\n",
              "      fill: #D2E3FC;\n",
              "    }\n",
              "\n",
              "    [theme=dark] .colab-df-convert:hover {\n",
              "      background-color: #434B5C;\n",
              "      box-shadow: 0px 1px 3px 1px rgba(0, 0, 0, 0.15);\n",
              "      filter: drop-shadow(0px 1px 2px rgba(0, 0, 0, 0.3));\n",
              "      fill: #FFFFFF;\n",
              "    }\n",
              "  </style>\n",
              "\n",
              "      <script>\n",
              "        const buttonEl =\n",
              "          document.querySelector('#df-6141fcab-5d06-4908-a3d8-c88719f9d6ce button.colab-df-convert');\n",
              "        buttonEl.style.display =\n",
              "          google.colab.kernel.accessAllowed ? 'block' : 'none';\n",
              "\n",
              "        async function convertToInteractive(key) {\n",
              "          const element = document.querySelector('#df-6141fcab-5d06-4908-a3d8-c88719f9d6ce');\n",
              "          const dataTable =\n",
              "            await google.colab.kernel.invokeFunction('convertToInteractive',\n",
              "                                                     [key], {});\n",
              "          if (!dataTable) return;\n",
              "\n",
              "          const docLinkHtml = 'Like what you see? Visit the ' +\n",
              "            '<a target=\"_blank\" href=https://colab.research.google.com/notebooks/data_table.ipynb>data table notebook</a>'\n",
              "            + ' to learn more about interactive tables.';\n",
              "          element.innerHTML = '';\n",
              "          dataTable['output_type'] = 'display_data';\n",
              "          await google.colab.output.renderOutput(dataTable, element);\n",
              "          const docLink = document.createElement('div');\n",
              "          docLink.innerHTML = docLinkHtml;\n",
              "          element.appendChild(docLink);\n",
              "        }\n",
              "      </script>\n",
              "    </div>\n",
              "  </div>\n",
              "  "
            ]
          },
          "metadata": {},
          "execution_count": 33
        }
      ]
    },
    {
      "cell_type": "markdown",
      "source": [
        "# 2. Преобразуем Recency в количество дней, прошедших с 2018 года."
      ],
      "metadata": {
        "id": "uVugowlMzTjQ"
      }
    },
    {
      "cell_type": "code",
      "source": [
        "from datetime import datetime\n",
        "data['Recency'] = data['Recency'].apply(lambda x: datetime.strptime(x, '%Y-%m-%d').month*30 + datetime.strptime(x, '%Y-%m-%d').day)\n",
        "data['Recency'] = data['Recency'] - data['Recency'].min()\n",
        "data"
      ],
      "metadata": {
        "colab": {
          "base_uri": "https://localhost:8080/",
          "height": 423
        },
        "id": "HPWT5k-IzJUh",
        "outputId": "a793f83c-2efe-4bff-931e-b5bd24f4588b"
      },
      "execution_count": null,
      "outputs": [
        {
          "output_type": "execute_result",
          "data": {
            "text/plain": [
              "       Monetary  Recency  Frequency  factor_1  factor_2  factor_3  factor_4\n",
              "0        100.40      153          6      0.35      0.08  0.609740  0.949383\n",
              "1        170.00      144          4      0.66      0.16  0.942272  0.479846\n",
              "2         70.75      144          6      0.92      0.20  0.323030  0.007076\n",
              "3         75.00       79         10      0.35      0.78  0.876833  0.088974\n",
              "4         94.51       99          5      0.51      0.44  0.912099  0.206194\n",
              "...         ...      ...        ...       ...       ...       ...       ...\n",
              "15995    110.00      150          5      0.22      0.92  0.279858  0.012416\n",
              "15996    175.00      135          9      0.66      0.55  0.045826  0.025403\n",
              "15997     94.21       65          2      0.41      0.80  0.438510  0.665808\n",
              "15998      3.35        4          1      0.75      0.17  0.009277  0.572111\n",
              "15999    345.00      162         18      0.11      0.28  0.068690  0.457037\n",
              "\n",
              "[16000 rows x 7 columns]"
            ],
            "text/html": [
              "\n",
              "  <div id=\"df-9d029f90-d0ac-429f-9751-c6325787d9ea\">\n",
              "    <div class=\"colab-df-container\">\n",
              "      <div>\n",
              "<style scoped>\n",
              "    .dataframe tbody tr th:only-of-type {\n",
              "        vertical-align: middle;\n",
              "    }\n",
              "\n",
              "    .dataframe tbody tr th {\n",
              "        vertical-align: top;\n",
              "    }\n",
              "\n",
              "    .dataframe thead th {\n",
              "        text-align: right;\n",
              "    }\n",
              "</style>\n",
              "<table border=\"1\" class=\"dataframe\">\n",
              "  <thead>\n",
              "    <tr style=\"text-align: right;\">\n",
              "      <th></th>\n",
              "      <th>Monetary</th>\n",
              "      <th>Recency</th>\n",
              "      <th>Frequency</th>\n",
              "      <th>factor_1</th>\n",
              "      <th>factor_2</th>\n",
              "      <th>factor_3</th>\n",
              "      <th>factor_4</th>\n",
              "    </tr>\n",
              "  </thead>\n",
              "  <tbody>\n",
              "    <tr>\n",
              "      <th>0</th>\n",
              "      <td>100.40</td>\n",
              "      <td>153</td>\n",
              "      <td>6</td>\n",
              "      <td>0.35</td>\n",
              "      <td>0.08</td>\n",
              "      <td>0.609740</td>\n",
              "      <td>0.949383</td>\n",
              "    </tr>\n",
              "    <tr>\n",
              "      <th>1</th>\n",
              "      <td>170.00</td>\n",
              "      <td>144</td>\n",
              "      <td>4</td>\n",
              "      <td>0.66</td>\n",
              "      <td>0.16</td>\n",
              "      <td>0.942272</td>\n",
              "      <td>0.479846</td>\n",
              "    </tr>\n",
              "    <tr>\n",
              "      <th>2</th>\n",
              "      <td>70.75</td>\n",
              "      <td>144</td>\n",
              "      <td>6</td>\n",
              "      <td>0.92</td>\n",
              "      <td>0.20</td>\n",
              "      <td>0.323030</td>\n",
              "      <td>0.007076</td>\n",
              "    </tr>\n",
              "    <tr>\n",
              "      <th>3</th>\n",
              "      <td>75.00</td>\n",
              "      <td>79</td>\n",
              "      <td>10</td>\n",
              "      <td>0.35</td>\n",
              "      <td>0.78</td>\n",
              "      <td>0.876833</td>\n",
              "      <td>0.088974</td>\n",
              "    </tr>\n",
              "    <tr>\n",
              "      <th>4</th>\n",
              "      <td>94.51</td>\n",
              "      <td>99</td>\n",
              "      <td>5</td>\n",
              "      <td>0.51</td>\n",
              "      <td>0.44</td>\n",
              "      <td>0.912099</td>\n",
              "      <td>0.206194</td>\n",
              "    </tr>\n",
              "    <tr>\n",
              "      <th>...</th>\n",
              "      <td>...</td>\n",
              "      <td>...</td>\n",
              "      <td>...</td>\n",
              "      <td>...</td>\n",
              "      <td>...</td>\n",
              "      <td>...</td>\n",
              "      <td>...</td>\n",
              "    </tr>\n",
              "    <tr>\n",
              "      <th>15995</th>\n",
              "      <td>110.00</td>\n",
              "      <td>150</td>\n",
              "      <td>5</td>\n",
              "      <td>0.22</td>\n",
              "      <td>0.92</td>\n",
              "      <td>0.279858</td>\n",
              "      <td>0.012416</td>\n",
              "    </tr>\n",
              "    <tr>\n",
              "      <th>15996</th>\n",
              "      <td>175.00</td>\n",
              "      <td>135</td>\n",
              "      <td>9</td>\n",
              "      <td>0.66</td>\n",
              "      <td>0.55</td>\n",
              "      <td>0.045826</td>\n",
              "      <td>0.025403</td>\n",
              "    </tr>\n",
              "    <tr>\n",
              "      <th>15997</th>\n",
              "      <td>94.21</td>\n",
              "      <td>65</td>\n",
              "      <td>2</td>\n",
              "      <td>0.41</td>\n",
              "      <td>0.80</td>\n",
              "      <td>0.438510</td>\n",
              "      <td>0.665808</td>\n",
              "    </tr>\n",
              "    <tr>\n",
              "      <th>15998</th>\n",
              "      <td>3.35</td>\n",
              "      <td>4</td>\n",
              "      <td>1</td>\n",
              "      <td>0.75</td>\n",
              "      <td>0.17</td>\n",
              "      <td>0.009277</td>\n",
              "      <td>0.572111</td>\n",
              "    </tr>\n",
              "    <tr>\n",
              "      <th>15999</th>\n",
              "      <td>345.00</td>\n",
              "      <td>162</td>\n",
              "      <td>18</td>\n",
              "      <td>0.11</td>\n",
              "      <td>0.28</td>\n",
              "      <td>0.068690</td>\n",
              "      <td>0.457037</td>\n",
              "    </tr>\n",
              "  </tbody>\n",
              "</table>\n",
              "<p>16000 rows × 7 columns</p>\n",
              "</div>\n",
              "      <button class=\"colab-df-convert\" onclick=\"convertToInteractive('df-9d029f90-d0ac-429f-9751-c6325787d9ea')\"\n",
              "              title=\"Convert this dataframe to an interactive table.\"\n",
              "              style=\"display:none;\">\n",
              "        \n",
              "  <svg xmlns=\"http://www.w3.org/2000/svg\" height=\"24px\"viewBox=\"0 0 24 24\"\n",
              "       width=\"24px\">\n",
              "    <path d=\"M0 0h24v24H0V0z\" fill=\"none\"/>\n",
              "    <path d=\"M18.56 5.44l.94 2.06.94-2.06 2.06-.94-2.06-.94-.94-2.06-.94 2.06-2.06.94zm-11 1L8.5 8.5l.94-2.06 2.06-.94-2.06-.94L8.5 2.5l-.94 2.06-2.06.94zm10 10l.94 2.06.94-2.06 2.06-.94-2.06-.94-.94-2.06-.94 2.06-2.06.94z\"/><path d=\"M17.41 7.96l-1.37-1.37c-.4-.4-.92-.59-1.43-.59-.52 0-1.04.2-1.43.59L10.3 9.45l-7.72 7.72c-.78.78-.78 2.05 0 2.83L4 21.41c.39.39.9.59 1.41.59.51 0 1.02-.2 1.41-.59l7.78-7.78 2.81-2.81c.8-.78.8-2.07 0-2.86zM5.41 20L4 18.59l7.72-7.72 1.47 1.35L5.41 20z\"/>\n",
              "  </svg>\n",
              "      </button>\n",
              "      \n",
              "  <style>\n",
              "    .colab-df-container {\n",
              "      display:flex;\n",
              "      flex-wrap:wrap;\n",
              "      gap: 12px;\n",
              "    }\n",
              "\n",
              "    .colab-df-convert {\n",
              "      background-color: #E8F0FE;\n",
              "      border: none;\n",
              "      border-radius: 50%;\n",
              "      cursor: pointer;\n",
              "      display: none;\n",
              "      fill: #1967D2;\n",
              "      height: 32px;\n",
              "      padding: 0 0 0 0;\n",
              "      width: 32px;\n",
              "    }\n",
              "\n",
              "    .colab-df-convert:hover {\n",
              "      background-color: #E2EBFA;\n",
              "      box-shadow: 0px 1px 2px rgba(60, 64, 67, 0.3), 0px 1px 3px 1px rgba(60, 64, 67, 0.15);\n",
              "      fill: #174EA6;\n",
              "    }\n",
              "\n",
              "    [theme=dark] .colab-df-convert {\n",
              "      background-color: #3B4455;\n",
              "      fill: #D2E3FC;\n",
              "    }\n",
              "\n",
              "    [theme=dark] .colab-df-convert:hover {\n",
              "      background-color: #434B5C;\n",
              "      box-shadow: 0px 1px 3px 1px rgba(0, 0, 0, 0.15);\n",
              "      filter: drop-shadow(0px 1px 2px rgba(0, 0, 0, 0.3));\n",
              "      fill: #FFFFFF;\n",
              "    }\n",
              "  </style>\n",
              "\n",
              "      <script>\n",
              "        const buttonEl =\n",
              "          document.querySelector('#df-9d029f90-d0ac-429f-9751-c6325787d9ea button.colab-df-convert');\n",
              "        buttonEl.style.display =\n",
              "          google.colab.kernel.accessAllowed ? 'block' : 'none';\n",
              "\n",
              "        async function convertToInteractive(key) {\n",
              "          const element = document.querySelector('#df-9d029f90-d0ac-429f-9751-c6325787d9ea');\n",
              "          const dataTable =\n",
              "            await google.colab.kernel.invokeFunction('convertToInteractive',\n",
              "                                                     [key], {});\n",
              "          if (!dataTable) return;\n",
              "\n",
              "          const docLinkHtml = 'Like what you see? Visit the ' +\n",
              "            '<a target=\"_blank\" href=https://colab.research.google.com/notebooks/data_table.ipynb>data table notebook</a>'\n",
              "            + ' to learn more about interactive tables.';\n",
              "          element.innerHTML = '';\n",
              "          dataTable['output_type'] = 'display_data';\n",
              "          await google.colab.output.renderOutput(dataTable, element);\n",
              "          const docLink = document.createElement('div');\n",
              "          docLink.innerHTML = docLinkHtml;\n",
              "          element.appendChild(docLink);\n",
              "        }\n",
              "      </script>\n",
              "    </div>\n",
              "  </div>\n",
              "  "
            ]
          },
          "metadata": {},
          "execution_count": 34
        }
      ]
    },
    {
      "cell_type": "code",
      "source": [
        "data.info()"
      ],
      "metadata": {
        "id": "jFr5FJcq1iro"
      },
      "execution_count": null,
      "outputs": []
    },
    {
      "cell_type": "markdown",
      "source": [
        "# 3. Определим оптимальное число кластеров. Выполним кластерный анализ, используя метод k-средних."
      ],
      "metadata": {
        "id": "nzcBTiq00B5e"
      }
    },
    {
      "cell_type": "markdown",
      "source": [
        "Рассмотрим корелляцию между признаками на тепловой карте. Для её построения используем тип графика - heatmap, а на вход подадим корелляционную матрицу нашего DataSeta, который представляет собой матрицу попарных кореляций признаков."
      ],
      "metadata": {
        "id": "hm4MlkF7-1wa"
      }
    },
    {
      "cell_type": "code",
      "source": [
        "plt.figure(figsize=[9,7])\n",
        "sns.heatmap(data.corr(), annot=True)\n",
        "plt.show()"
      ],
      "metadata": {
        "colab": {
          "base_uri": "https://localhost:8080/",
          "height": 433
        },
        "id": "6uN205RX2guY",
        "outputId": "4fada797-1f9f-4d48-f331-820b0a17a39e"
      },
      "execution_count": null,
      "outputs": [
        {
          "output_type": "display_data",
          "data": {
            "text/plain": [
              "<Figure size 648x504 with 2 Axes>"
            ],
            "image/png": "[encoded data removed]"
          },
          "metadata": {
            "needs_background": "light"
          }
        }
      ]
    },
    {
      "cell_type": "markdown",
      "source": [
        "# Нормализация данных\n",
        "Посмотрим наши переменные. Они замерены в различных единицах измерения. Имеет смысл првиести все переменные к единице, чтобы избежать влияние масштаба наших переменных на результат модели. Вызовем метод StandardScaler(), который нормализцет объекты, т.е. каждый столбец Х. На вход данный метод принимает массив, поэтому преобразуем наш DataSet используя библиотеку numpy. Затем методом fit преобразуем наши данные и видим, что наши данные теперь стнадартизированы, они находятся в диапозоне от -1 до 1. Таким образом, все элементы будут иметь одинаковый вес."
      ],
      "metadata": {
        "id": "sqGO0Ix03MY3"
      }
    },
    {
      "cell_type": "code",
      "source": [
        "X = np.asarray(data)\n",
        "scale = StandardScaler()\n",
        "X = scale.fit_transform(X)\n",
        "X"
      ],
      "metadata": {
        "colab": {
          "base_uri": "https://localhost:8080/"
        },
        "id": "C2x6CDpM3Pmm",
        "outputId": "3ca651b3-54ae-4d1d-a2d7-14e45e9a01e4"
      },
      "execution_count": null,
      "outputs": [
        {
          "output_type": "execute_result",
          "data": {
            "text/plain": [
              "array([[-0.16446977,  0.90557931,  0.39488058, ..., -1.43549584,\n",
              "         0.39542918,  1.56327193],\n",
              "       [ 0.22261916,  0.72861018,  0.00950199, ..., -1.16067021,\n",
              "         1.54596103, -0.06441357],\n",
              "       [-0.32937188,  0.72861018,  0.39488058, ..., -1.0232574 ,\n",
              "        -0.59655788, -1.70330595],\n",
              "       ...,\n",
              "       [-0.19889621, -0.82478553, -0.3758766 , ...,  1.0379348 ,\n",
              "        -0.19700992,  0.58024063],\n",
              "       [-0.70422524, -2.02424298, -0.56856589, ..., -1.12631701,\n",
              "        -1.68211376,  0.2554301 ],\n",
              "       [ 1.19590311,  1.08254845,  2.70715212, ..., -0.74843177,\n",
              "        -1.4765516 , -0.1434807 ]])"
            ]
          },
          "metadata": {},
          "execution_count": 36
        }
      ]
    },
    {
      "cell_type": "markdown",
      "source": [
        "# Понижение размерности методом главных компонент"
      ],
      "metadata": {
        "id": "nheRt2YX3WO1"
      }
    },
    {
      "cell_type": "code",
      "source": [
        "from sklearn.decomposition import PCA"
      ],
      "metadata": {
        "id": "XVDAbRu83afm"
      },
      "execution_count": null,
      "outputs": []
    },
    {
      "cell_type": "code",
      "source": [
        "pca = PCA(n_components=7)\n",
        "pca_val7 = pca.fit_transform(X)\n",
        "pca_X= pd.DataFrame(pca_val7)"
      ],
      "metadata": {
        "id": "HP1NZpfk3cb8"
      },
      "execution_count": null,
      "outputs": []
    },
    {
      "cell_type": "code",
      "source": [
        "pca_X.shape"
      ],
      "metadata": {
        "colab": {
          "base_uri": "https://localhost:8080/"
        },
        "id": "yx1UWrdm3gp-",
        "outputId": "16407a71-5b50-4811-88e5-8bf3c1c28280"
      },
      "execution_count": null,
      "outputs": [
        {
          "output_type": "execute_result",
          "data": {
            "text/plain": [
              "(16000, 7)"
            ]
          },
          "metadata": {},
          "execution_count": 10
        }
      ]
    },
    {
      "cell_type": "code",
      "source": [
        "pca"
      ],
      "metadata": {
        "colab": {
          "base_uri": "https://localhost:8080/",
          "height": 74
        },
        "id": "n-Fw28t11Vsa",
        "outputId": "27a9a391-06f3-46c9-89ef-8bf30c1ffebf"
      },
      "execution_count": null,
      "outputs": [
        {
          "output_type": "execute_result",
          "data": {
            "text/plain": [
              "PCA(n_components=7)"
            ],
            "text/html": [
              "<style>#sk-container-id-1 {color: black;background-color: white;}#sk-container-id-1 pre{padding: 0;}#sk-container-id-1 div.sk-toggleable {background-color: white;}#sk-container-id-1 label.sk-toggleable__label {cursor: pointer;display: block;width: 100%;margin-bottom: 0;padding: 0.3em;box-sizing: border-box;text-align: center;}#sk-container-id-1 label.sk-toggleable__label-arrow:before {content: \"▸\";float: left;margin-right: 0.25em;color: #696969;}#sk-container-id-1 label.sk-toggleable__label-arrow:hover:before {color: black;}#sk-container-id-1 div.sk-estimator:hover label.sk-toggleable__label-arrow:before {color: black;}#sk-container-id-1 div.sk-toggleable__content {max-height: 0;max-width: 0;overflow: hidden;text-align: left;background-color: #f0f8ff;}#sk-container-id-1 div.sk-toggleable__content pre {margin: 0.2em;color: black;border-radius: 0.25em;background-color: #f0f8ff;}#sk-container-id-1 input.sk-toggleable__control:checked~div.sk-toggleable__content {max-height: 200px;max-width: 100%;overflow: auto;}#sk-container-id-1 input.sk-toggleable__control:checked~label.sk-toggleable__label-arrow:before {content: \"▾\";}#sk-container-id-1 div.sk-estimator input.sk-toggleable__control:checked~label.sk-toggleable__label {background-color: #d4ebff;}#sk-container-id-1 div.sk-label input.sk-toggleable__control:checked~label.sk-toggleable__label {background-color: #d4ebff;}#sk-container-id-1 input.sk-hidden--visually {border: 0;clip: rect(1px 1px 1px 1px);clip: rect(1px, 1px, 1px, 1px);height: 1px;margin: -1px;overflow: hidden;padding: 0;position: absolute;width: 1px;}#sk-container-id-1 div.sk-estimator {font-family: monospace;background-color: #f0f8ff;border: 1px dotted black;border-radius: 0.25em;box-sizing: border-box;margin-bottom: 0.5em;}#sk-container-id-1 div.sk-estimator:hover {background-color: #d4ebff;}#sk-container-id-1 div.sk-parallel-item::after {content: \"\";width: 100%;border-bottom: 1px solid gray;flex-grow: 1;}#sk-container-id-1 div.sk-label:hover label.sk-toggleable__label {background-color: #d4ebff;}#sk-container-id-1 div.sk-serial::before {content: \"\";position: absolute;border-left: 1px solid gray;box-sizing: border-box;top: 0;bottom: 0;left: 50%;z-index: 0;}#sk-container-id-1 div.sk-serial {display: flex;flex-direction: column;align-items: center;background-color: white;padding-right: 0.2em;padding-left: 0.2em;position: relative;}#sk-container-id-1 div.sk-item {position: relative;z-index: 1;}#sk-container-id-1 div.sk-parallel {display: flex;align-items: stretch;justify-content: center;background-color: white;position: relative;}#sk-container-id-1 div.sk-item::before, #sk-container-id-1 div.sk-parallel-item::before {content: \"\";position: absolute;border-left: 1px solid gray;box-sizing: border-box;top: 0;bottom: 0;left: 50%;z-index: -1;}#sk-container-id-1 div.sk-parallel-item {display: flex;flex-direction: column;z-index: 1;position: relative;background-color: white;}#sk-container-id-1 div.sk-parallel-item:first-child::after {align-self: flex-end;width: 50%;}#sk-container-id-1 div.sk-parallel-item:last-child::after {align-self: flex-start;width: 50%;}#sk-container-id-1 div.sk-parallel-item:only-child::after {width: 0;}#sk-container-id-1 div.sk-dashed-wrapped {border: 1px dashed gray;margin: 0 0.4em 0.5em 0.4em;box-sizing: border-box;padding-bottom: 0.4em;background-color: white;}#sk-container-id-1 div.sk-label label {font-family: monospace;font-weight: bold;display: inline-block;line-height: 1.2em;}#sk-container-id-1 div.sk-label-container {text-align: center;}#sk-container-id-1 div.sk-container {/* jupyter's `normalize.less` sets `[hidden] { display: none; }` but bootstrap.min.css set `[hidden] { display: none !important; }` so we also need the `!important` here to be able to override the default hidden behavior on the sphinx rendered scikit-learn.org. See: https://github.com/scikit-learn/scikit-learn/issues/21755 */display: inline-block !important;position: relative;}#sk-container-id-1 div.sk-text-repr-fallback {display: none;}</style><div id=\"sk-container-id-1\" class=\"sk-top-container\"><div class=\"sk-text-repr-fallback\"><pre>PCA(n_components=7)</pre><b>In a Jupyter environment, please rerun this cell to show the HTML representation or trust the notebook. <br />On GitHub, the HTML representation is unable to render, please try loading this page with nbviewer.org.</b></div><div class=\"sk-container\" hidden><div class=\"sk-item\"><div class=\"sk-estimator sk-toggleable\"><input class=\"sk-toggleable__control sk-hidden--visually\" id=\"sk-estimator-id-1\" type=\"checkbox\" checked><label for=\"sk-estimator-id-1\" class=\"sk-toggleable__label sk-toggleable__label-arrow\">PCA</label><div class=\"sk-toggleable__content\"><pre>PCA(n_components=7)</pre></div></div></div></div></div>"
            ]
          },
          "metadata": {},
          "execution_count": 11
        }
      ]
    },
    {
      "cell_type": "code",
      "source": [
        "pd.DataFrame(pca.components_.T, columns=['PC_' + str(i) for i in range(7)])"
      ],
      "metadata": {
        "colab": {
          "base_uri": "https://localhost:8080/",
          "height": 269
        },
        "id": "iS1Rplx43gu5",
        "outputId": "6e6de9ae-cbce-4d16-b6d0-ccd44fd015a1"
      },
      "execution_count": null,
      "outputs": [
        {
          "output_type": "execute_result",
          "data": {
            "text/plain": [
              "       PC_0      PC_1      PC_2      PC_3      PC_4      PC_5      PC_6\n",
              "0  0.653021 -0.012010  0.009114  0.014901  0.012210  0.265957  0.708683\n",
              "1  0.386970  0.019277 -0.041684 -0.046914 -0.060447 -0.917717 -0.009282\n",
              "2  0.650947 -0.011232  0.022627  0.016407  0.024012  0.277932 -0.705364\n",
              "3 -0.003370 -0.537098  0.187370 -0.749095  0.339445 -0.005314  0.003490\n",
              "4  0.004081  0.560247  0.352255 -0.545509 -0.510840  0.059029 -0.000676\n",
              "5 -0.004124  0.088109  0.872962  0.315529  0.352473 -0.078997  0.011006\n",
              "6  0.006350  0.623894 -0.276429 -0.197551  0.703706 -0.007947  0.003288"
            ],
            "text/html": [
              "\n",
              "  <div id=\"df-477b7eb7-a70a-41e1-a2e9-5b885886a3d6\">\n",
              "    <div class=\"colab-df-container\">\n",
              "      <div>\n",
              "<style scoped>\n",
              "    .dataframe tbody tr th:only-of-type {\n",
              "        vertical-align: middle;\n",
              "    }\n",
              "\n",
              "    .dataframe tbody tr th {\n",
              "        vertical-align: top;\n",
              "    }\n",
              "\n",
              "    .dataframe thead th {\n",
              "        text-align: right;\n",
              "    }\n",
              "</style>\n",
              "<table border=\"1\" class=\"dataframe\">\n",
              "  <thead>\n",
              "    <tr style=\"text-align: right;\">\n",
              "      <th></th>\n",
              "      <th>PC_0</th>\n",
              "      <th>PC_1</th>\n",
              "      <th>PC_2</th>\n",
              "      <th>PC_3</th>\n",
              "      <th>PC_4</th>\n",
              "      <th>PC_5</th>\n",
              "      <th>PC_6</th>\n",
              "    </tr>\n",
              "  </thead>\n",
              "  <tbody>\n",
              "    <tr>\n",
              "      <th>0</th>\n",
              "      <td>0.653021</td>\n",
              "      <td>-0.012010</td>\n",
              "      <td>0.009114</td>\n",
              "      <td>0.014901</td>\n",
              "      <td>0.012210</td>\n",
              "      <td>0.265957</td>\n",
              "      <td>0.708683</td>\n",
              "    </tr>\n",
              "    <tr>\n",
              "      <th>1</th>\n",
              "      <td>0.386970</td>\n",
              "      <td>0.019277</td>\n",
              "      <td>-0.041684</td>\n",
              "      <td>-0.046914</td>\n",
              "      <td>-0.060447</td>\n",
              "      <td>-0.917717</td>\n",
              "      <td>-0.009282</td>\n",
              "    </tr>\n",
              "    <tr>\n",
              "      <th>2</th>\n",
              "      <td>0.650947</td>\n",
              "      <td>-0.011232</td>\n",
              "      <td>0.022627</td>\n",
              "      <td>0.016407</td>\n",
              "      <td>0.024012</td>\n",
              "      <td>0.277932</td>\n",
              "      <td>-0.705364</td>\n",
              "    </tr>\n",
              "    <tr>\n",
              "      <th>3</th>\n",
              "      <td>-0.003370</td>\n",
              "      <td>-0.537098</td>\n",
              "      <td>0.187370</td>\n",
              "      <td>-0.749095</td>\n",
              "      <td>0.339445</td>\n",
              "      <td>-0.005314</td>\n",
              "      <td>0.003490</td>\n",
              "    </tr>\n",
              "    <tr>\n",
              "      <th>4</th>\n",
              "      <td>0.004081</td>\n",
              "      <td>0.560247</td>\n",
              "      <td>0.352255</td>\n",
              "      <td>-0.545509</td>\n",
              "      <td>-0.510840</td>\n",
              "      <td>0.059029</td>\n",
              "      <td>-0.000676</td>\n",
              "    </tr>\n",
              "    <tr>\n",
              "      <th>5</th>\n",
              "      <td>-0.004124</td>\n",
              "      <td>0.088109</td>\n",
              "      <td>0.872962</td>\n",
              "      <td>0.315529</td>\n",
              "      <td>0.352473</td>\n",
              "      <td>-0.078997</td>\n",
              "      <td>0.011006</td>\n",
              "    </tr>\n",
              "    <tr>\n",
              "      <th>6</th>\n",
              "      <td>0.006350</td>\n",
              "      <td>0.623894</td>\n",
              "      <td>-0.276429</td>\n",
              "      <td>-0.197551</td>\n",
              "      <td>0.703706</td>\n",
              "      <td>-0.007947</td>\n",
              "      <td>0.003288</td>\n",
              "    </tr>\n",
              "  </tbody>\n",
              "</table>\n",
              "</div>\n",
              "      <button class=\"colab-df-convert\" onclick=\"convertToInteractive('df-477b7eb7-a70a-41e1-a2e9-5b885886a3d6')\"\n",
              "              title=\"Convert this dataframe to an interactive table.\"\n",
              "              style=\"display:none;\">\n",
              "        \n",
              "  <svg xmlns=\"http://www.w3.org/2000/svg\" height=\"24px\"viewBox=\"0 0 24 24\"\n",
              "       width=\"24px\">\n",
              "    <path d=\"M0 0h24v24H0V0z\" fill=\"none\"/>\n",
              "    <path d=\"M18.56 5.44l.94 2.06.94-2.06 2.06-.94-2.06-.94-.94-2.06-.94 2.06-2.06.94zm-11 1L8.5 8.5l.94-2.06 2.06-.94-2.06-.94L8.5 2.5l-.94 2.06-2.06.94zm10 10l.94 2.06.94-2.06 2.06-.94-2.06-.94-.94-2.06-.94 2.06-2.06.94z\"/><path d=\"M17.41 7.96l-1.37-1.37c-.4-.4-.92-.59-1.43-.59-.52 0-1.04.2-1.43.59L10.3 9.45l-7.72 7.72c-.78.78-.78 2.05 0 2.83L4 21.41c.39.39.9.59 1.41.59.51 0 1.02-.2 1.41-.59l7.78-7.78 2.81-2.81c.8-.78.8-2.07 0-2.86zM5.41 20L4 18.59l7.72-7.72 1.47 1.35L5.41 20z\"/>\n",
              "  </svg>\n",
              "      </button>\n",
              "      \n",
              "  <style>\n",
              "    .colab-df-container {\n",
              "      display:flex;\n",
              "      flex-wrap:wrap;\n",
              "      gap: 12px;\n",
              "    }\n",
              "\n",
              "    .colab-df-convert {\n",
              "      background-color: #E8F0FE;\n",
              "      border: none;\n",
              "      border-radius: 50%;\n",
              "      cursor: pointer;\n",
              "      display: none;\n",
              "      fill: #1967D2;\n",
              "      height: 32px;\n",
              "      padding: 0 0 0 0;\n",
              "      width: 32px;\n",
              "    }\n",
              "\n",
              "    .colab-df-convert:hover {\n",
              "      background-color: #E2EBFA;\n",
              "      box-shadow: 0px 1px 2px rgba(60, 64, 67, 0.3), 0px 1px 3px 1px rgba(60, 64, 67, 0.15);\n",
              "      fill: #174EA6;\n",
              "    }\n",
              "\n",
              "    [theme=dark] .colab-df-convert {\n",
              "      background-color: #3B4455;\n",
              "      fill: #D2E3FC;\n",
              "    }\n",
              "\n",
              "    [theme=dark] .colab-df-convert:hover {\n",
              "      background-color: #434B5C;\n",
              "      box-shadow: 0px 1px 3px 1px rgba(0, 0, 0, 0.15);\n",
              "      filter: drop-shadow(0px 1px 2px rgba(0, 0, 0, 0.3));\n",
              "      fill: #FFFFFF;\n",
              "    }\n",
              "  </style>\n",
              "\n",
              "      <script>\n",
              "        const buttonEl =\n",
              "          document.querySelector('#df-477b7eb7-a70a-41e1-a2e9-5b885886a3d6 button.colab-df-convert');\n",
              "        buttonEl.style.display =\n",
              "          google.colab.kernel.accessAllowed ? 'block' : 'none';\n",
              "\n",
              "        async function convertToInteractive(key) {\n",
              "          const element = document.querySelector('#df-477b7eb7-a70a-41e1-a2e9-5b885886a3d6');\n",
              "          const dataTable =\n",
              "            await google.colab.kernel.invokeFunction('convertToInteractive',\n",
              "                                                     [key], {});\n",
              "          if (!dataTable) return;\n",
              "\n",
              "          const docLinkHtml = 'Like what you see? Visit the ' +\n",
              "            '<a target=\"_blank\" href=https://colab.research.google.com/notebooks/data_table.ipynb>data table notebook</a>'\n",
              "            + ' to learn more about interactive tables.';\n",
              "          element.innerHTML = '';\n",
              "          dataTable['output_type'] = 'display_data';\n",
              "          await google.colab.output.renderOutput(dataTable, element);\n",
              "          const docLink = document.createElement('div');\n",
              "          docLink.innerHTML = docLinkHtml;\n",
              "          element.appendChild(docLink);\n",
              "        }\n",
              "      </script>\n",
              "    </div>\n",
              "  </div>\n",
              "  "
            ]
          },
          "metadata": {},
          "execution_count": 12
        }
      ]
    },
    {
      "cell_type": "code",
      "source": [
        "### Проверка\n",
        "plt.figure(figsize=[9, 7])\n",
        "\n",
        "sns.heatmap(pca_X.corr(), annot=True)\n",
        "plt.show()"
      ],
      "metadata": {
        "colab": {
          "base_uri": "https://localhost:8080/",
          "height": 432
        },
        "id": "rf0UNxMq3la2",
        "outputId": "c5e3536d-7411-4375-f355-c4249e8c776b"
      },
      "execution_count": null,
      "outputs": [
        {
          "output_type": "display_data",
          "data": {
            "text/plain": [
              "<Figure size 648x504 with 2 Axes>"
            ],
            "image/png": "[encoded data removed]"
          },
          "metadata": {
            "needs_background": "light"
          }
        }
      ]
    },
    {
      "cell_type": "markdown",
      "source": [
        "# Используем метод локтя для поиска оптимального количества кластеров."
      ],
      "metadata": {
        "id": "URBppE861t13"
      }
    },
    {
      "cell_type": "code",
      "source": [
        "n_cluster=9\n",
        "cost=[]\n",
        "for i in range(1, n_cluster):\n",
        "  kmean= KMeans(i)\n",
        "  kmean.fit(pca_X)\n",
        "  cost.append(kmean.inertia_)\n",
        "plt.figure(figsize=[9, 7])\n",
        "plt.plot(cost, marker=\"o\")\n",
        "plt.xlabel(\"Number of clusters\")\n",
        "plt.ylabel(\"Sum of squared errors\")"
      ],
      "metadata": {
        "colab": {
          "base_uri": "https://localhost:8080/",
          "height": 757
        },
        "id": "zGXLlJXc0BOv",
        "outputId": "ae6a38d6-6ac0-43ff-e1a2-ca7a856cfcdb"
      },
      "execution_count": null,
      "outputs": [
        {
          "output_type": "stream",
          "name": "stderr",
          "text": [
            "/usr/local/lib/python3.9/dist-packages/sklearn/cluster/_kmeans.py:870: FutureWarning: The default value of `n_init` will change from 10 to 'auto' in 1.4. Set the value of `n_init` explicitly to suppress the warning\n",
            "  warnings.warn(\n",
            "/usr/local/lib/python3.9/dist-packages/sklearn/cluster/_kmeans.py:870: FutureWarning: The default value of `n_init` will change from 10 to 'auto' in 1.4. Set the value of `n_init` explicitly to suppress the warning\n",
            "  warnings.warn(\n",
            "/usr/local/lib/python3.9/dist-packages/sklearn/cluster/_kmeans.py:870: FutureWarning: The default value of `n_init` will change from 10 to 'auto' in 1.4. Set the value of `n_init` explicitly to suppress the warning\n",
            "  warnings.warn(\n",
            "/usr/local/lib/python3.9/dist-packages/sklearn/cluster/_kmeans.py:870: FutureWarning: The default value of `n_init` will change from 10 to 'auto' in 1.4. Set the value of `n_init` explicitly to suppress the warning\n",
            "  warnings.warn(\n",
            "/usr/local/lib/python3.9/dist-packages/sklearn/cluster/_kmeans.py:870: FutureWarning: The default value of `n_init` will change from 10 to 'auto' in 1.4. Set the value of `n_init` explicitly to suppress the warning\n",
            "  warnings.warn(\n",
            "/usr/local/lib/python3.9/dist-packages/sklearn/cluster/_kmeans.py:870: FutureWarning: The default value of `n_init` will change from 10 to 'auto' in 1.4. Set the value of `n_init` explicitly to suppress the warning\n",
            "  warnings.warn(\n",
            "/usr/local/lib/python3.9/dist-packages/sklearn/cluster/_kmeans.py:870: FutureWarning: The default value of `n_init` will change from 10 to 'auto' in 1.4. Set the value of `n_init` explicitly to suppress the warning\n",
            "  warnings.warn(\n",
            "/usr/local/lib/python3.9/dist-packages/sklearn/cluster/_kmeans.py:870: FutureWarning: The default value of `n_init` will change from 10 to 'auto' in 1.4. Set the value of `n_init` explicitly to suppress the warning\n",
            "  warnings.warn(\n"
          ]
        },
        {
          "output_type": "execute_result",
          "data": {
            "text/plain": [
              "Text(0, 0.5, 'Sum of squared errors')"
            ]
          },
          "metadata": {},
          "execution_count": 37
        },
        {
          "output_type": "display_data",
          "data": {
            "text/plain": [
              "<Figure size 648x504 with 1 Axes>"
            ],
            "image/png": "[encoded data removed]"
          },
          "metadata": {
            "needs_background": "light"
          }
        }
      ]
    },
    {
      "cell_type": "markdown",
      "source": [
        "Снижение дисперссии замедляется в точке 4 - это точка локоть, зн-т, количество кластеров будет - 4."
      ],
      "metadata": {
        "id": "7Fh2ruQo2kzz"
      }
    },
    {
      "cell_type": "markdown",
      "source": [
        "# 4. Визуализируем кластеры."
      ],
      "metadata": {
        "id": "PufV2wa40MCq"
      }
    },
    {
      "cell_type": "markdown",
      "source": [
        "Построение модели кластеризации"
      ],
      "metadata": {
        "id": "JwBb46g74kc5"
      }
    },
    {
      "cell_type": "code",
      "source": [
        "#описываем модель\n",
        "kmean = KMeans(n_clusters = 4)\n",
        "# Предсказание на наборе данных\n",
        "k_means_predicted = kmean.fit(pca_X)\n",
        "labels = kmean.labels_\n",
        "labels"
      ],
      "metadata": {
        "colab": {
          "base_uri": "https://localhost:8080/"
        },
        "id": "p_7QHJXQR5KQ",
        "outputId": "c0edbf17-9a26-4b6a-8d4a-9a9690772c33"
      },
      "execution_count": null,
      "outputs": [
        {
          "output_type": "stream",
          "name": "stderr",
          "text": [
            "/usr/local/lib/python3.9/dist-packages/sklearn/cluster/_kmeans.py:870: FutureWarning: The default value of `n_init` will change from 10 to 'auto' in 1.4. Set the value of `n_init` explicitly to suppress the warning\n",
            "  warnings.warn(\n"
          ]
        },
        {
          "output_type": "execute_result",
          "data": {
            "text/plain": [
              "array([0, 0, 1, ..., 2, 2, 3], dtype=int32)"
            ]
          },
          "metadata": {},
          "execution_count": 38
        }
      ]
    },
    {
      "cell_type": "code",
      "source": [
        "labels.replace('U+200B','')\n",
        "DF=pd.DataFrame({​​​​​​​​'clusters':labels}​​​​​)"
      ],
      "metadata": {
        "colab": {
          "base_uri": "https://localhost:8080/",
          "height": 130
        },
        "id": "ijaR37-DWvmt",
        "outputId": "b314be52-a2ce-42b2-9a8d-c074bdf2ffa8"
      },
      "execution_count": null,
      "outputs": [
        {
          "output_type": "error",
          "ename": "SyntaxError",
          "evalue": "ignored",
          "traceback": [
            "\u001b[0;36m  File \u001b[0;32m\"<ipython-input-39-ce29072330d9>\"\u001b[0;36m, line \u001b[0;32m1\u001b[0m\n\u001b[0;31m    DF=pd.DataFrame({​​​​​​​​'clusters':labels}​​​​​)\u001b[0m\n\u001b[0m                     ^\u001b[0m\n\u001b[0;31mSyntaxError\u001b[0m\u001b[0;31m:\u001b[0m invalid non-printable character U+200B\n"
          ]
        }
      ]
    },
    {
      "cell_type": "code",
      "source": [
        "clusters = pd.concat([data, pd.DataFrame({​​​​​​​​'cluster':labels}​​​​​)], axis=1)\n",
        "clusters.head()"
      ],
      "metadata": {
        "colab": {
          "base_uri": "https://localhost:8080/",
          "height": 130
        },
        "id": "hbgwwtiLStGF",
        "outputId": "3ef7a180-17ce-49a4-cbab-f8c759cc7224"
      },
      "execution_count": null,
      "outputs": [
        {
          "output_type": "error",
          "ename": "SyntaxError",
          "evalue": "ignored",
          "traceback": [
            "\u001b[0;36m  File \u001b[0;32m\"<ipython-input-20-c3de1aa76825>\"\u001b[0;36m, line \u001b[0;32m1\u001b[0m\n\u001b[0;31m    clusters = pd.concat([data, pd.DataFrame({​​​​​​​​'cluster':[labels]}​​​​​)], axis=1)\u001b[0m\n\u001b[0m                                              ^\u001b[0m\n\u001b[0;31mSyntaxError\u001b[0m\u001b[0;31m:\u001b[0m invalid non-printable character U+200B\n"
          ]
        }
      ]
    },
    {
      "cell_type": "code",
      "source": [
        "clusters[['cluster', 'PURCHASES', 'BALANCE', 'CREDIT_LIMIT']].groupby('cluster').mean().plot()\n",
        "plt.show()"
      ],
      "metadata": {
        "id": "ngs3cJDY4xrP"
      },
      "execution_count": null,
      "outputs": []
    },
    {
      "cell_type": "code",
      "source": [
        "## Рассмотрим всего нескольких столбцов для понимания кластеров\n",
        "k_df_columns= [\"PURCHASES\", \"CASH_ADVANCE\", \"PURCHASES_TRX\", \"CASH_ADVANCE_TRX\", \"MINIMUM_PAYMENTS\",\n",
        "              \"ONEOFF_PURCHASES\", \"INSTALLMENTS_PURCHASES\"]\n",
        "\n",
        "# mEAN VALUE GIVES A GOOD INDICATION OF THE DISTRIBUTION OF DATA. So we are findinf mean value\n",
        "cluster_4=clusters.groupby('clusters').apply(lambda x: x[k_df_columns].mean()).T\n",
        "cluster_4\n"
      ],
      "metadata": {
        "id": "Ui6tm5aq4yAX"
      },
      "execution_count": null,
      "outputs": []
    },
    {
      "cell_type": "code",
      "source": [
        "pca = PCA(2)\n",
        "pca.fit(X)\n",
        "X_PCA = pca.transform(X)\n",
        "X_PCA.shape"
      ],
      "metadata": {
        "id": "Wk1w0B_541FG"
      },
      "execution_count": null,
      "outputs": []
    },
    {
      "cell_type": "code",
      "source": [
        "x, y = X_PCA[:, 0], X_PCA[:, 1]\n",
        "colors = {0: 'red', 1: 'blue', 2: 'green', 3: 'wellow'}\n",
        "\n",
        "df = pd.dataFrame({'x': x, 'y': y, 'label':labels})\n",
        "groups = df.groupby('label')\n",
        "fig, ax = plt.subplots(figsize=(20, 13))\n",
        "ax.legend()\n",
        "ax.set_title(\"Customers Segmentation based on their Credit Card usage bhaviour.\")\n",
        "plt.show()"
      ],
      "metadata": {
        "id": "IxmalnxF4yC7"
      },
      "execution_count": null,
      "outputs": []
    }
  ]
}